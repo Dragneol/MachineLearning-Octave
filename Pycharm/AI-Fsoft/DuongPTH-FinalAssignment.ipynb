{
 "cells": [
  {
   "cell_type": "markdown",
   "metadata": {
    "id": "Cnxj3H4uyzzH",
    "colab_type": "text"
   },
   "source": [
    "This cell for import and preparing library"
   ]
  },
  {
   "cell_type": "code",
   "execution_count": 1,
   "metadata": {
    "id": "gvHVrAJMwGFR",
    "colab_type": "code",
    "colab": {}
   },
   "outputs": [
    {
     "name": "stderr",
     "output_type": "stream",
     "text": [
      "C:\\Users\\DuongPTHSE62871\\venv\\lib\\site-packages\\ipykernel\\parentpoller.py:116: UserWarning: Parent poll failed.  If the frontend dies,\n                the kernel may be left running.  Please let us know\n                about your system (bitness, Python, etc.) at\n                ipython-dev@scipy.org\n  ipython-dev@scipy.org\"\"\")\n"
     ]
    }
   ],
   "source": [
    "import itertools\n",
    "\n",
    "import matplotlib.pyplot as plt\n",
    "import matplotlib.ticker as ticker\n",
    "import numpy as np\n",
    "\n",
    "import pandas as pd\n",
    "import scipy.optimize as opt\n",
    "from sklearn import metrics\n",
    "from sklearn import preprocessing\n",
    "from sklearn import svm\n",
    "from sklearn.linear_model import LogisticRegression\n",
    "from sklearn.metrics import classification_report, confusion_matrix\n",
    "from sklearn.metrics import f1_score\n",
    "from sklearn.metrics import jaccard_similarity_score\n",
    "from sklearn.metrics import log_loss\n",
    "from sklearn.neighbors import KNeighborsClassifier\n",
    "from sklearn.tree import DecisionTreeClassifier\n",
    "% matplotlib inline\n"
   ]
  },
  {
   "cell_type": "markdown",
   "metadata": {
    "id": "0dgkJSiXEJRz",
    "colab_type": "text"
   },
   "source": [
    "Get Data and push into dataframe"
   ]
  },
  {
   "cell_type": "code",
   "execution_count": 3,
   "metadata": {
    "id": "LsOvtaHpy7UI",
    "colab_type": "code",
    "colab": {}
   },
   "outputs": [],
   "source": [
    "link_train = 'https://archive.ics.uci.edu/ml/machine-learning-databases/adult/adult.data'\n",
    "link_test = 'https://archive.ics.uci.edu/ml/machine-learning-databases/adult/adult.test'\n",
    "headers = ['age', 'workclass', 'fnlwgt', 'education', 'education-num', 'marital-status', 'occupation', 'relationship',\n",
    "           'race', 'sex', 'capital-gain', 'capital-loss', 'hours-per-week', 'native-country', 'possible']\n",
    "\n",
    "train_dataframe = pd.read_csv(link_train, header=None, names=headers)\n",
    "test_dataframe = pd.read_csv(link_test, header=None, names=headers)\n",
    "\n",
    "test_dataframe.drop([0, 0], inplace=True)\n",
    "test_dataframe = test_dataframe.reset_index()\n",
    "\n",
    "labels = ['education', 'workclass', 'marital-status', 'occupation', 'relationship', 'race', 'native-country']\n",
    "for label in labels:\n",
    "    train_dataframe[label] = train_dataframe[label].astype('str')\n",
    "    test_dataframe[label] = test_dataframe[label].astype('str')\n",
    "\n",
    "train_dataframe['sex'] = preprocessing.LabelEncoder().fit([' Male', ' Female']).transform(train_dataframe['sex'])\n",
    "test_dataframe['sex'] = preprocessing.LabelEncoder().fit([' Male', ' Female']).transform(test_dataframe['sex'])\n",
    "train_dataframe['possible'] = preprocessing.LabelEncoder().fit([' <=50K', ' >50K']).transform(\n",
    "    train_dataframe['possible'])\n",
    "test_dataframe['possible'] = preprocessing.LabelEncoder().fit([' <=50K.', ' >50K.']).transform(\n",
    "    test_dataframe['possible'])\n"
   ]
  },
  {
   "cell_type": "code",
   "execution_count": 0,
   "metadata": {
    "id": "D3SI8taAE5ds",
    "colab_type": "code",
    "colab": {}
   },
   "outputs": [],
   "source": [
    "def oneHotEncoding(label):\n",
    "    Feature = train_dataframe[[label]]  #Other columns to be included\n",
    "    Feature = pd.concat([train_dataframe[[label]], pd.get_dummies(train_dataframe[label])],\n",
    "                        axis=1)  #One-hot encoding all categorical data in [label] column\n",
    "    Feature.drop([label], axis=1, inplace=True)  #Remove column named label\n",
    "    return Feature\n",
    "\n",
    "train_data = train_dataframe\n",
    "test_data = test_dataframe\n",
    "\n",
    "for label in labels:\n",
    "    train_data = pd.concat([train_data, oneHotEncoding(label)], axis=1)\n",
    "    test_data = pd.concat([test_data, oneHotEncoding(label)], axis=1)\n",
    "    train_data.drop(label, axis=1, inplace=True)\n",
    "    test_data.drop(label, axis=1, inplace=True)\n",
    "\n",
    "train_data.drop([' ?'], axis=1, inplace=True)\n",
    "test_data.drop([' ?'], axis=1, inplace=True)\n",
    "train_data = train_data.fillna(0)\n",
    "test_data = test_data.fillna(0)\n"
   ]
  },
  {
   "cell_type": "code",
   "execution_count": 0,
   "metadata": {
    "id": "fsBPcWI4U7qy",
    "colab_type": "code",
    "colab": {}
   },
   "outputs": [],
   "source": [
    "columns_for_datas = train_data.columns.values.tolist()\n",
    "columns_for_datas\n"
   ]
  },
  {
   "cell_type": "markdown",
   "metadata": {
    "id": "PbN6rOrvgyOX",
    "colab_type": "text"
   },
   "source": [
    "##KNN"
   ]
  },
  {
   "cell_type": "code",
   "execution_count": 0,
   "metadata": {
    "id": "EfnEw5jvjqI2",
    "colab_type": "code",
    "colab": {}
   },
   "outputs": [],
   "source": [
    "y_train = train_data['possible']\n",
    "X_train = train_data[['age', 'fnlwgt', 'education-num', 'capital-gain', 'capital-loss', 'hours-per-week']]\n",
    "y_test = test_data['possible']\n",
    "X_test = test_data[['age', 'fnlwgt', 'education-num', 'capital-gain', 'capital-loss', 'hours-per-week']]\n"
   ]
  },
  {
   "cell_type": "code",
   "execution_count": 0,
   "metadata": {
    "id": "uqSQYUMFjuQF",
    "colab_type": "code",
    "colab": {}
   },
   "outputs": [],
   "source": [
    "X_train = preprocessing.StandardScaler().fit(X_train).transform(X_train.astype(float))\n"
   ]
  },
  {
   "cell_type": "code",
   "execution_count": 7,
   "metadata": {
    "id": "10H3oXeYg1LJ",
    "colab_type": "code",
    "colab": {
     "base_uri": "https://localhost:8080/",
     "height": 67.0
    },
    "outputId": "aa85fa8e-705c-4ce3-faa5-a51b33de698f"
   },
   "outputs": [
    {
     "data": {
      "text/plain": [
       "KNeighborsClassifier(algorithm='auto', leaf_size=30, metric='minkowski',\n",
       "           metric_params=None, n_jobs=1, n_neighbors=4, p=2,\n",
       "           weights='uniform')"
      ]
     },
     "execution_count": 7,
     "metadata": {
      "tags": []
     },
     "output_type": "execute_result"
    }
   ],
   "source": [
    "k = 4\n",
    "#Train Model and Predict  \n",
    "neigh = KNeighborsClassifier(n_neighbors=k).fit(X_train, y_train)\n",
    "neigh\n"
   ]
  },
  {
   "cell_type": "code",
   "execution_count": 0,
   "metadata": {
    "id": "KlERIb8thIHJ",
    "colab_type": "code",
    "colab": {}
   },
   "outputs": [],
   "source": [
    "yhat = neigh.predict(X_test)\n"
   ]
  },
  {
   "cell_type": "code",
   "execution_count": 10,
   "metadata": {
    "id": "x6OmXLrpiVZH",
    "colab_type": "code",
    "colab": {
     "base_uri": "https://localhost:8080/",
     "height": 50.0
    },
    "outputId": "b8fd2154-1d6c-4ce6-d568-19282e9702af"
   },
   "outputs": [
    {
     "name": "stdout",
     "output_type": "stream",
     "text": [
      "Train set Accuracy:  0.8602929885445779\n",
      "Test set Accuracy :  0.8831424096311539\n"
     ]
    }
   ],
   "source": [
    "print(\"Train set Accuracy: \", metrics.accuracy_score(y_train, neigh.predict(X_train)))\n",
    "print(\"Test set Accuracy : \", metrics.accuracy_score(y_test, yhat))\n"
   ]
  },
  {
   "cell_type": "markdown",
   "metadata": {
    "id": "wu_6uR_mj7Wf",
    "colab_type": "text"
   },
   "source": [
    "##Decision Tree"
   ]
  },
  {
   "cell_type": "code",
   "execution_count": 0,
   "metadata": {
    "id": "S6lMtYbBk3_3",
    "colab_type": "code",
    "colab": {}
   },
   "outputs": [],
   "source": [
    "y_train = train_data['possible']\n",
    "X_train = train_data[['age', 'fnlwgt', 'education-num', 'capital-gain', 'capital-loss', 'hours-per-week']]\n",
    "y_test = test_data['possible']\n",
    "X_test = test_data[['age', 'fnlwgt', 'education-num', 'capital-gain', 'capital-loss', 'hours-per-week']]\n"
   ]
  },
  {
   "cell_type": "code",
   "execution_count": 14,
   "metadata": {
    "id": "y5QRIKF-j_vv",
    "colab_type": "code",
    "colab": {
     "base_uri": "https://localhost:8080/",
     "height": 118.0
    },
    "outputId": "4cd076da-a357-4d34-da31-6d97df60b48f"
   },
   "outputs": [
    {
     "data": {
      "text/plain": [
       "DecisionTreeClassifier(class_weight=None, criterion='entropy', max_depth=4,\n",
       "            max_features=None, max_leaf_nodes=None,\n",
       "            min_impurity_decrease=0.0, min_impurity_split=None,\n",
       "            min_samples_leaf=1, min_samples_split=2,\n",
       "            min_weight_fraction_leaf=0.0, presort=False, random_state=None,\n",
       "            splitter='best')"
      ]
     },
     "execution_count": 14,
     "metadata": {
      "tags": []
     },
     "output_type": "execute_result"
    }
   ],
   "source": [
    "incomeTree = DecisionTreeClassifier(criterion=\"entropy\", max_depth=4)\n",
    "incomeTree  # it shows the default parameters\n"
   ]
  },
  {
   "cell_type": "code",
   "execution_count": 17,
   "metadata": {
    "id": "OzWgj7hxkwgx",
    "colab_type": "code",
    "colab": {
     "base_uri": "https://localhost:8080/",
     "height": 118.0
    },
    "outputId": "3f1a7008-d15f-4a80-87cb-484da2f94542"
   },
   "outputs": [
    {
     "data": {
      "text/plain": [
       "DecisionTreeClassifier(class_weight=None, criterion='entropy', max_depth=4,\n",
       "            max_features=None, max_leaf_nodes=None,\n",
       "            min_impurity_decrease=0.0, min_impurity_split=None,\n",
       "            min_samples_leaf=1, min_samples_split=2,\n",
       "            min_weight_fraction_leaf=0.0, presort=False, random_state=None,\n",
       "            splitter='best')"
      ]
     },
     "execution_count": 17,
     "metadata": {
      "tags": []
     },
     "output_type": "execute_result"
    }
   ],
   "source": [
    "incomeTree.fit(X_train, y_train)\n"
   ]
  },
  {
   "cell_type": "code",
   "execution_count": 0,
   "metadata": {
    "id": "Ad0cWqTqlMV2",
    "colab_type": "code",
    "colab": {}
   },
   "outputs": [],
   "source": [
    "predTree = incomeTree.predict(X_test)\n"
   ]
  },
  {
   "cell_type": "code",
   "execution_count": null,
   "metadata": {
    "id": "BV1MSewllSnD",
    "colab_type": "code",
    "colab": {
     "base_uri": "https://localhost:8080/",
     "height": 34.0
    },
    "outputId": "af88672c-a1ce-4c94-d84e-4b46a2b1f5e9"
   },
   "outputs": [],
   "source": [
    "print(\"DecisionTrees's Accuracy: \", metrics.accuracy_score(y_test, predTree))\n"
   ]
  },
  {
   "cell_type": "markdown",
   "metadata": {
    "id": "MBooVzrNlheX",
    "colab_type": "text"
   },
   "source": [
    "##Logistic Regression"
   ]
  },
  {
   "cell_type": "code",
   "execution_count": 22,
   "metadata": {
    "id": "vRp9cht5lkUy",
    "colab_type": "code",
    "colab": {
     "base_uri": "https://localhost:8080/",
     "height": 84.0
    },
    "outputId": "1cd7a79f-7021-4c0d-d1f1-cabcb3f9bebc"
   },
   "outputs": [
    {
     "data": {
      "text/plain": [
       "LogisticRegression(C=0.01, class_weight=None, dual=False, fit_intercept=True,\n",
       "          intercept_scaling=1, max_iter=100, multi_class='ovr', n_jobs=1,\n",
       "          penalty='l2', random_state=None, solver='liblinear', tol=0.0001,\n",
       "          verbose=0, warm_start=False)"
      ]
     },
     "execution_count": 22,
     "metadata": {
      "tags": []
     },
     "output_type": "execute_result"
    }
   ],
   "source": [
    "LR = LogisticRegression(C=0.01, solver='liblinear').fit(X_train, y_train)\n",
    "LR\n"
   ]
  },
  {
   "cell_type": "code",
   "execution_count": 0,
   "metadata": {
    "id": "M-b4HXjMl8nn",
    "colab_type": "code",
    "colab": {}
   },
   "outputs": [],
   "source": [
    "yhat = LR.predict(X_test)\n"
   ]
  },
  {
   "cell_type": "code",
   "execution_count": 0,
   "metadata": {
    "id": "_ZjezzgJl_TL",
    "colab_type": "code",
    "colab": {}
   },
   "outputs": [],
   "source": [
    "yhat_prob = LR.predict_proba(X_test)\n"
   ]
  },
  {
   "cell_type": "markdown",
   "metadata": {
    "id": "LTCFbjh4mYT4",
    "colab_type": "text"
   },
   "source": [
    "###Confusion Matrix"
   ]
  },
  {
   "cell_type": "code",
   "execution_count": 0,
   "metadata": {
    "id": "XFkQc7yRmBTv",
    "colab_type": "code",
    "colab": {}
   },
   "outputs": [],
   "source": [
    "def plot_confusion_matrix(cm, classes,\n",
    "                          normalize=False,\n",
    "                          title='Confusion matrix',\n",
    "                          cmap=plt.cm.Blues):\n",
    "    \"\"\"\n",
    "    This function prints and plots the confusion matrix.\n",
    "    Normalization can be applied by setting `normalize=True`.\n",
    "    \"\"\"\n",
    "    if normalize:\n",
    "        cm = cm.astype('float') / cm.sum(axis=1)[:, np.newaxis]\n",
    "        print(\"Normalized confusion matrix\")\n",
    "    else:\n",
    "        print('Confusion matrix, without normalization')\n",
    "\n",
    "    print(cm)\n",
    "\n",
    "    plt.imshow(cm, interpolation='nearest', cmap=cmap)\n",
    "    plt.title(title)\n",
    "    plt.colorbar()\n",
    "    tick_marks = np.arange(len(classes))\n",
    "    plt.xticks(tick_marks, classes, rotation=45)\n",
    "    plt.yticks(tick_marks, classes)\n",
    "\n",
    "    fmt = '.2f' if normalize else 'd'\n",
    "    thresh = cm.max() / 2.\n",
    "    for i, j in itertools.product(range(cm.shape[0]), range(cm.shape[1])):\n",
    "        plt.text(j, i, format(cm[i, j], fmt),\n",
    "                 horizontalalignment=\"center\",\n",
    "                 color=\"white\" if cm[i, j] > thresh else \"black\")\n",
    "\n",
    "    plt.tight_layout()\n",
    "    plt.ylabel('True label')\n",
    "    plt.xlabel('Predicted label')"
   ]
  },
  {
   "cell_type": "code",
   "execution_count": 34,
   "metadata": {
    "id": "VYo8B0bCnBBP",
    "colab_type": "code",
    "colab": {
     "base_uri": "https://localhost:8080/",
     "height": 479.0
    },
    "outputId": "8134a3f5-2ee5-4702-a4b7-0a017efc392d"
   },
   "outputs": [
    {
     "name": "stdout",
     "output_type": "stream",
     "text": [
      "Confusion matrix, without normalization\n",
      "[[ 3846     0]\n",
      " [12435 16280]]\n",
      "             precision    recall  f1-score   support\n",
      "\n",
      "        0.0       1.00      0.57      0.72     28715\n",
      "        1.0       0.24      1.00      0.38      3846\n",
      "\n",
      "avg / total       0.91      0.62      0.68     32561\n",
      "\n"
     ]
    },
    {
     "data": {
      "image/png": "[encoded data removed]",
      "text/plain": [
       "<matplotlib.figure.Figure at 0x7f17b86c05c0>"
      ]
     },
     "metadata": {
      "tags": []
     },
     "output_type": "display_data"
    }
   ],
   "source": [
    "# Compute confusion matrix\n",
    "cnf_matrix = confusion_matrix(y_test, yhat, labels=[1,0])\n",
    "np.set_printoptions(precision=2)\n",
    "\n",
    "\n",
    "# Plot non-normalized confusion matrix\n",
    "plt.figure()\n",
    "plot_confusion_matrix(cnf_matrix, classes=['<=50','>50'],normalize= False,  title='Confusion matrix')\n",
    "\n",
    "print (classification_report(y_test, yhat))"
   ]
  },
  {
   "cell_type": "markdown",
   "metadata": {
    "id": "Nt6EQvoJm2S_",
    "colab_type": "text"
   },
   "source": [
    "###Log loss"
   ]
  },
  {
   "cell_type": "code",
   "execution_count": 32,
   "metadata": {
    "id": "UcQ1TJ-Rm4pf",
    "colab_type": "code",
    "colab": {
     "base_uri": "https://localhost:8080/",
     "height": 34.0
    },
    "outputId": "faa7eb77-1abd-49ce-ab9a-043894c89a4b"
   },
   "outputs": [
    {
     "data": {
      "text/plain": [
       "13.305731315194766"
      ]
     },
     "execution_count": 32,
     "metadata": {
      "tags": []
     },
     "output_type": "execute_result"
    }
   ],
   "source": [
    "log_loss(y_test, yhat_prob)\n"
   ]
  },
  {
   "cell_type": "markdown",
   "metadata": {
    "id": "Qck7K4F8npbo",
    "colab_type": "text"
   },
   "source": [
    "###Jaccard Index"
   ]
  },
  {
   "cell_type": "code",
   "execution_count": 33,
   "metadata": {
    "id": "HQXxfUonnuyh",
    "colab_type": "code",
    "colab": {
     "base_uri": "https://localhost:8080/",
     "height": 34.0
    },
    "outputId": "f7b15151-42bf-455a-a76d-abde5e141546"
   },
   "outputs": [
    {
     "data": {
      "text/plain": [
       "0.6181014096618654"
      ]
     },
     "execution_count": 33,
     "metadata": {
      "tags": []
     },
     "output_type": "execute_result"
    }
   ],
   "source": [
    "jaccard_similarity_score(y_test, yhat)"
   ]
  },
  {
   "cell_type": "markdown",
   "metadata": {
    "id": "B6tbNBKToC6o",
    "colab_type": "text"
   },
   "source": [
    "##SVM"
   ]
  },
  {
   "cell_type": "markdown",
   "metadata": {
    "id": "0reTD4zkpSWI",
    "colab_type": "text"
   },
   "source": [
    "###Modeling"
   ]
  },
  {
   "cell_type": "code",
   "execution_count": 41,
   "metadata": {
    "id": "OEPM7KZ0oHyx",
    "colab_type": "code",
    "colab": {
     "base_uri": "https://localhost:8080/",
     "height": 84.0
    },
    "outputId": "4b77dd30-6d72-41e4-c2ff-75feefb27ea9"
   },
   "outputs": [
    {
     "data": {
      "text/plain": [
       "SVC(C=1.0, cache_size=200, class_weight=None, coef0=0.0,\n",
       "  decision_function_shape='ovr', degree=3, gamma='auto', kernel='rbf',\n",
       "  max_iter=-1, probability=False, random_state=None, shrinking=True,\n",
       "  tol=0.001, verbose=False)"
      ]
     },
     "execution_count": 41,
     "metadata": {
      "tags": []
     },
     "output_type": "execute_result"
    }
   ],
   "source": [
    "clf = svm.SVC(kernel='rbf')\n",
    "clf.fit(X_train, y_train)\n"
   ]
  },
  {
   "cell_type": "markdown",
   "metadata": {
    "id": "e4sRBuUWpbBr",
    "colab_type": "text"
   },
   "source": [
    "###Prediction"
   ]
  },
  {
   "cell_type": "code",
   "execution_count": 42,
   "metadata": {
    "id": "BAdfCkUPpUTW",
    "colab_type": "code",
    "colab": {
     "base_uri": "https://localhost:8080/",
     "height": 34.0
    },
    "outputId": "a9b9cb30-994c-4b1a-a198-48bc1fa76ce0"
   },
   "outputs": [
    {
     "data": {
      "text/plain": [
       "array([0, 0, 0, 0, 0])"
      ]
     },
     "execution_count": 42,
     "metadata": {
      "tags": []
     },
     "output_type": "execute_result"
    }
   ],
   "source": [
    "yhat = clf.predict(X_test)\n",
    "yhat[0:5]\n"
   ]
  },
  {
   "cell_type": "code",
   "execution_count": 45,
   "metadata": {
    "id": "BWchQ3XWp4zr",
    "colab_type": "code",
    "colab": {
     "base_uri": "https://localhost:8080/",
     "height": 533.0
    },
    "outputId": "77861973-0e98-4898-bc5d-4e35c2bcf700"
   },
   "outputs": [
    {
     "name": "stdout",
     "output_type": "stream",
     "text": [
      "             precision    recall  f1-score   support\n",
      "\n",
      "        0.0       0.88      1.00      0.94     28715\n",
      "        1.0       0.00      0.00      0.00      3846\n",
      "\n",
      "avg / total       0.78      0.88      0.83     32561\n",
      "\n",
      "Confusion matrix, without normalization\n",
      "[[    0  3846]\n",
      " [    0 28715]]\n"
     ]
    },
    {
     "name": "stderr",
     "output_type": "stream",
     "text": [
      "/usr/local/lib/python3.6/dist-packages/sklearn/metrics/classification.py:1135: UndefinedMetricWarning: Precision and F-score are ill-defined and being set to 0.0 in labels with no predicted samples.\n",
      "  'precision', 'predicted', average, warn_for)\n"
     ]
    },
    {
     "data": {
      "image/png": "[encoded data removed]",
      "text/plain": [
       "<matplotlib.figure.Figure at 0x7f17b6683630>"
      ]
     },
     "metadata": {
      "tags": []
     },
     "output_type": "display_data"
    }
   ],
   "source": [
    "# Compute confusion matrix\n",
    "cnf_matrix = confusion_matrix(y_test, yhat, labels=[1, 0])\n",
    "np.set_printoptions(precision=2)\n",
    "\n",
    "print(classification_report(y_test, yhat))\n",
    "\n",
    "# Plot non-normalized confusion matrix\n",
    "plt.figure()\n",
    "plot_confusion_matrix(cnf_matrix, classes=['<=50', '>50'], normalize=False, title='Confusion matrix')\n"
   ]
  },
  {
   "cell_type": "code",
   "execution_count": 48,
   "metadata": {
    "id": "FQ5eCvmuqGPG",
    "colab_type": "code",
    "colab": {
     "base_uri": "https://localhost:8080/",
     "height": 87.0
    },
    "outputId": "eb41aa02-aa4d-4ec1-ac9a-87d5af2015df"
   },
   "outputs": [
    {
     "name": "stderr",
     "output_type": "stream",
     "text": [
      "/usr/local/lib/python3.6/dist-packages/sklearn/metrics/classification.py:1135: UndefinedMetricWarning: F-score is ill-defined and being set to 0.0 in labels with no predicted samples.\n",
      "  'precision', 'predicted', average, warn_for)\n"
     ]
    },
    {
     "data": {
      "text/plain": [
       "0.8265316626392801"
      ]
     },
     "execution_count": 48,
     "metadata": {
      "tags": []
     },
     "output_type": "execute_result"
    }
   ],
   "source": [
    "f1_score(y_test, yhat, average='weighted')\n"
   ]
  },
  {
   "cell_type": "code",
   "execution_count": null,
   "metadata": {
    "id": "3rHDtozpqan7",
    "colab_type": "code",
    "colab": {
     "base_uri": "https://localhost:8080/",
     "height": 34.0
    },
    "outputId": "12677d5d-1941-4888-e9cb-d0248e492faf"
   },
   "outputs": [],
   "source": [
    "jaccard_similarity_score(y_test, yhat)\n"
   ]
  }
 ],
 "metadata": {
  "colab": {
   "name": "DuongPTH-FinallAssigment",
   "version": "0.3.2",
   "provenance": [],
   "collapsed_sections": [
    "PbN6rOrvgyOX"
   ]
  },
  "kernelspec": {
   "name": "python3",
   "display_name": "Python 3"
  }
 },
 "nbformat": 4,
 "nbformat_minor": 0
}
