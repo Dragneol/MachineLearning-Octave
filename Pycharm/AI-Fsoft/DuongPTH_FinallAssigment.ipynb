{
  "nbformat": 4,
  "nbformat_minor": 0,
  "metadata": {
    "colab": {
      "name": "DuongPTH-FinallAssigment",
      "version": "0.3.2",
      "provenance": [],
      "collapsed_sections": []
    },
    "kernelspec": {
      "name": "python3",
      "display_name": "Python 3"
    }
  },
  "cells": [
    {
      "metadata": {
        "id": "Cnxj3H4uyzzH",
        "colab_type": "text"
      },
      "cell_type": "markdown",
      "source": [
        "<h1>Import and preparing library</h1>"
      ]
    },
    {
      "metadata": {
        "id": "gvHVrAJMwGFR",
        "colab_type": "code",
        "colab": {}
      },
      "cell_type": "code",
      "source": [
        "import itertools\n",
        "\n",
        "import matplotlib.pyplot as plt\n",
        "import matplotlib.ticker as ticker\n",
        "import numpy as np\n",
        "\n",
        "import pandas as pd\n",
        "import scipy.optimize as opt\n",
        "from sklearn import metrics\n",
        "from sklearn import preprocessing\n",
        "from sklearn import svm\n",
        "from sklearn.linear_model import LogisticRegression\n",
        "from sklearn.metrics import classification_report, confusion_matrix\n",
        "from sklearn.metrics import f1_score\n",
        "from sklearn.metrics import jaccard_similarity_score\n",
        "from sklearn.metrics import log_loss\n",
        "from sklearn.neighbors import KNeighborsClassifier\n",
        "from sklearn.tree import DecisionTreeClassifier\n",
        "% matplotlib inline"
      ],
      "execution_count": 0,
      "outputs": []
    },
    {
      "metadata": {
        "id": "0dgkJSiXEJRz",
        "colab_type": "text"
      },
      "cell_type": "markdown",
      "source": [
        "<h1>Get Data and push into dataframe</h1>"
      ]
    },
    {
      "metadata": {
        "id": "LsOvtaHpy7UI",
        "colab_type": "code",
        "colab": {}
      },
      "cell_type": "code",
      "source": [
        "link_train = 'https://archive.ics.uci.edu/ml/machine-learning-databases/adult/adult.data'\n",
        "link_test = 'https://archive.ics.uci.edu/ml/machine-learning-databases/adult/adult.test'\n",
        "headers = ['age','workclass','fnlwgt','education','education-num','marital-status','occupation','relationship','race',\\\n",
        "           'sex','capital-gain','capital-loss','hours-per-week','native-country', 'possible']\n",
        "\n",
        "train_dataframe = pd.read_csv(link_train, header=None, names=headers)\n",
        "test_dataframe = pd.read_csv(link_test, header=None, names=headers)\n",
        "\n",
        "test_dataframe.drop([0, 0], inplace=True)\n",
        "test_dataframe = test_dataframe.reset_index()\n",
        "\n",
        "labels = ['education','workclass','marital-status','occupation','relationship','race','native-country']\n",
        "for label in labels:\n",
        "  train_dataframe[label] = train_dataframe[label].astype('str')\n",
        "  test_dataframe[label] = test_dataframe[label].astype('str')\n",
        "\n",
        "train_dataframe['sex'] = preprocessing.LabelEncoder().fit([' Male',' Female']).transform(train_dataframe['sex'])\n",
        "test_dataframe['sex'] = preprocessing.LabelEncoder().fit([' Male',' Female']).transform(test_dataframe['sex'])\n",
        "train_dataframe['possible'] = preprocessing.LabelEncoder().fit([' <=50K',' >50K']).transform(train_dataframe['possible'])\n",
        "test_dataframe['possible'] = preprocessing.LabelEncoder().fit([' <=50K.',' >50K.']).transform(test_dataframe['possible'])"
      ],
      "execution_count": 0,
      "outputs": []
    },
    {
      "metadata": {
        "id": "0yyNnusnuJOc",
        "colab_type": "text"
      },
      "cell_type": "markdown",
      "source": [
        "<h2>One-hot encoding within a DataFrame </h2>"
      ]
    },
    {
      "metadata": {
        "id": "D3SI8taAE5ds",
        "colab_type": "code",
        "colab": {}
      },
      "cell_type": "code",
      "source": [
        "def oneHotEncoding(label):\n",
        "  Feature = train_dataframe[[label]] #Other columns to be included\n",
        "  Feature = pd.concat([train_dataframe[[label]],pd.get_dummies(train_dataframe[label])], axis=1) #One-hot encoding all categorical data in [label] column\n",
        "  Feature.drop([label], axis = 1,inplace=True) #Remove column named label\n",
        "  return Feature\n",
        "\n",
        "train_data = train_dataframe\n",
        "test_data = test_dataframe\n",
        "\n",
        "for label in labels:\n",
        "  train_data = pd.concat([train_data, oneHotEncoding(label)], axis=1)\n",
        "  test_data = pd.concat([test_data, oneHotEncoding(label)], axis=1)\n",
        "  train_data.drop(label, axis = 1,inplace=True)\n",
        "  test_data.drop(label, axis = 1,inplace=True)\n",
        "\n",
        "train_data.drop([' ?'], axis=1, inplace=True)\n",
        "test_data.drop([' ?'], axis=1, inplace=True)\n",
        "train_data = train_data.fillna(0)\n",
        "test_data = test_data.fillna(0)"
      ],
      "execution_count": 0,
      "outputs": []
    },
    {
      "metadata": {
        "id": "fsBPcWI4U7qy",
        "colab_type": "code",
        "colab": {}
      },
      "cell_type": "code",
      "source": [
        "columns_for_datas = train_data.columns.values.tolist()\n",
        "columns_for_datas.remove('possible')\n",
        "columns_for_datas"
      ],
      "execution_count": 0,
      "outputs": []
    },
    {
      "metadata": {
        "id": "PbN6rOrvgyOX",
        "colab_type": "text"
      },
      "cell_type": "markdown",
      "source": [
        "#KNN"
      ]
    },
    {
      "metadata": {
        "id": "4Guk_uH6ubXq",
        "colab_type": "text"
      },
      "cell_type": "markdown",
      "source": [
        "##Prepare Data"
      ]
    },
    {
      "metadata": {
        "id": "EfnEw5jvjqI2",
        "colab_type": "code",
        "colab": {}
      },
      "cell_type": "code",
      "source": [
        "y_train = train_data['possible']\n",
        "X_train = train_data[['age','fnlwgt','education-num','capital-gain','capital-loss','hours-per-week']]\n",
        "y_test = test_data['possible']\n",
        "X_test = test_data[['age','fnlwgt','education-num','capital-gain','capital-loss','hours-per-week']]"
      ],
      "execution_count": 0,
      "outputs": []
    },
    {
      "metadata": {
        "id": "fyhWWl7-ugaT",
        "colab_type": "text"
      },
      "cell_type": "markdown",
      "source": [
        "##Centering and scaling"
      ]
    },
    {
      "metadata": {
        "id": "uqSQYUMFjuQF",
        "colab_type": "code",
        "colab": {}
      },
      "cell_type": "code",
      "source": [
        "X_train = preprocessing.StandardScaler().fit(X_train).transform(X_train.astype(float))\n",
        "X_test = preprocessing.StandardScaler().fit(X_test).transform(X_train.astype(float))"
      ],
      "execution_count": 0,
      "outputs": []
    },
    {
      "metadata": {
        "id": "fGq4xPgRutki",
        "colab_type": "text"
      },
      "cell_type": "markdown",
      "source": [
        "##Modeling"
      ]
    },
    {
      "metadata": {
        "id": "10H3oXeYg1LJ",
        "colab_type": "code",
        "colab": {}
      },
      "cell_type": "code",
      "source": [
        "k = 4\n",
        "neigh = KNeighborsClassifier(n_neighbors = k).fit(X_train,y_train)"
      ],
      "execution_count": 0,
      "outputs": []
    },
    {
      "metadata": {
        "id": "VkbwoJiMuziS",
        "colab_type": "text"
      },
      "cell_type": "markdown",
      "source": [
        "##Prediction"
      ]
    },
    {
      "metadata": {
        "id": "KlERIb8thIHJ",
        "colab_type": "code",
        "colab": {}
      },
      "cell_type": "code",
      "source": [
        "yhat = neigh.predict(X_test)"
      ],
      "execution_count": 0,
      "outputs": []
    },
    {
      "metadata": {
        "id": "JhXtVFPNvCAT",
        "colab_type": "text"
      },
      "cell_type": "markdown",
      "source": [
        "##Evalution"
      ]
    },
    {
      "metadata": {
        "id": "Irww1GdQwjpe",
        "colab_type": "code",
        "colab": {
          "base_uri": "https://localhost:8080/",
          "height": 34
        },
        "outputId": "78c1ecdf-f666-4bb5-9418-1008245ccefb"
      },
      "cell_type": "code",
      "source": [
        "jaccard_similarity_score(y_test, yhat)"
      ],
      "execution_count": 9,
      "outputs": [
        {
          "output_type": "execute_result",
          "data": {
            "text/plain": [
              "0.8818832345443935"
            ]
          },
          "metadata": {
            "tags": []
          },
          "execution_count": 9
        }
      ]
    },
    {
      "metadata": {
        "id": "CugZ1-gOwmB3",
        "colab_type": "code",
        "colab": {
          "base_uri": "https://localhost:8080/",
          "height": 50
        },
        "outputId": "aaa2c419-ab8f-469a-9c79-16e0d1d7b673"
      },
      "cell_type": "code",
      "source": [
        "print(\"Train set Accuracy: \", metrics.accuracy_score(y_train, neigh.predict(X_train)))\n",
        "print(\"Test set Accuracy : \", metrics.accuracy_score(y_test, yhat))"
      ],
      "execution_count": 10,
      "outputs": [
        {
          "output_type": "stream",
          "text": [
            "Train set Accuracy:  0.8602929885445779\n",
            "Test set Accuracy :  0.8818832345443935\n"
          ],
          "name": "stdout"
        }
      ]
    },
    {
      "metadata": {
        "id": "wu_6uR_mj7Wf",
        "colab_type": "text"
      },
      "cell_type": "markdown",
      "source": [
        "#Decision Tree"
      ]
    },
    {
      "metadata": {
        "id": "rj94KbejvIX6",
        "colab_type": "text"
      },
      "cell_type": "markdown",
      "source": [
        "##Prepare Data"
      ]
    },
    {
      "metadata": {
        "id": "S6lMtYbBk3_3",
        "colab_type": "code",
        "colab": {}
      },
      "cell_type": "code",
      "source": [
        "y_train = train_data['possible']\n",
        "X_train = train_data[['age','fnlwgt','education-num','capital-gain','capital-loss','hours-per-week']]\n",
        "y_test = test_data['possible']\n",
        "X_test = test_data[['age','fnlwgt','education-num','capital-gain','capital-loss','hours-per-week']]"
      ],
      "execution_count": 0,
      "outputs": []
    },
    {
      "metadata": {
        "id": "KVHCvc0r0_hW",
        "colab_type": "text"
      },
      "cell_type": "markdown",
      "source": [
        "##Centraling and Scalling"
      ]
    },
    {
      "metadata": {
        "id": "hETNdRjZ0-gG",
        "colab_type": "code",
        "colab": {}
      },
      "cell_type": "code",
      "source": [
        "X_train = preprocessing.StandardScaler().fit(X_train).transform(X_train.astype(float))\n",
        "X_test = preprocessing.StandardScaler().fit(X_test).transform(X_train.astype(float))"
      ],
      "execution_count": 0,
      "outputs": []
    },
    {
      "metadata": {
        "id": "IlG4VdBWvQ17",
        "colab_type": "text"
      },
      "cell_type": "markdown",
      "source": [
        "##Modeling"
      ]
    },
    {
      "metadata": {
        "id": "y5QRIKF-j_vv",
        "colab_type": "code",
        "colab": {}
      },
      "cell_type": "code",
      "source": [
        "incomeTree = DecisionTreeClassifier(criterion=\"entropy\", max_depth = 4)"
      ],
      "execution_count": 0,
      "outputs": []
    },
    {
      "metadata": {
        "id": "OzWgj7hxkwgx",
        "colab_type": "code",
        "colab": {
          "base_uri": "https://localhost:8080/",
          "height": 118
        },
        "outputId": "6aa220df-3456-4fd9-f7de-54d0687e3551"
      },
      "cell_type": "code",
      "source": [
        "incomeTree.fit(X_train,y_train)"
      ],
      "execution_count": 14,
      "outputs": [
        {
          "output_type": "execute_result",
          "data": {
            "text/plain": [
              "DecisionTreeClassifier(class_weight=None, criterion='entropy', max_depth=4,\n",
              "            max_features=None, max_leaf_nodes=None,\n",
              "            min_impurity_decrease=0.0, min_impurity_split=None,\n",
              "            min_samples_leaf=1, min_samples_split=2,\n",
              "            min_weight_fraction_leaf=0.0, presort=False, random_state=None,\n",
              "            splitter='best')"
            ]
          },
          "metadata": {
            "tags": []
          },
          "execution_count": 14
        }
      ]
    },
    {
      "metadata": {
        "id": "9yAYbhIcvbeN",
        "colab_type": "text"
      },
      "cell_type": "markdown",
      "source": [
        "##Prediction"
      ]
    },
    {
      "metadata": {
        "id": "Ad0cWqTqlMV2",
        "colab_type": "code",
        "colab": {}
      },
      "cell_type": "code",
      "source": [
        "yhat = incomeTree.predict(X_test)"
      ],
      "execution_count": 0,
      "outputs": []
    },
    {
      "metadata": {
        "id": "g0mscix8vfGs",
        "colab_type": "text"
      },
      "cell_type": "markdown",
      "source": [
        "##Evalution"
      ]
    },
    {
      "metadata": {
        "id": "kzIoXuqMv5IT",
        "colab_type": "text"
      },
      "cell_type": "markdown",
      "source": [
        "###Jaccard Score"
      ]
    },
    {
      "metadata": {
        "id": "5WLPcOewtSkC",
        "colab_type": "code",
        "colab": {
          "base_uri": "https://localhost:8080/",
          "height": 34
        },
        "outputId": "38daf958-3519-4237-daae-b3c47314e154"
      },
      "cell_type": "code",
      "source": [
        "jaccard_similarity_score(y_test, yhat)"
      ],
      "execution_count": 16,
      "outputs": [
        {
          "output_type": "execute_result",
          "data": {
            "text/plain": [
              "0.8818832345443935"
            ]
          },
          "metadata": {
            "tags": []
          },
          "execution_count": 16
        }
      ]
    },
    {
      "metadata": {
        "id": "Sr17AQIgtjjB",
        "colab_type": "code",
        "colab": {
          "base_uri": "https://localhost:8080/",
          "height": 34
        },
        "outputId": "820858b1-d6fb-4842-eeff-382e73a7bce1"
      },
      "cell_type": "code",
      "source": [
        "print(\"DecisionTrees's Accuracy: \", metrics.accuracy_score(y_test, yhat))"
      ],
      "execution_count": 17,
      "outputs": [
        {
          "output_type": "stream",
          "text": [
            "DecisionTrees's Accuracy:  0.8818832345443935\n"
          ],
          "name": "stdout"
        }
      ]
    },
    {
      "metadata": {
        "id": "MBooVzrNlheX",
        "colab_type": "text"
      },
      "cell_type": "markdown",
      "source": [
        "#Logistic Regression"
      ]
    },
    {
      "metadata": {
        "id": "CAriWKc20XU4",
        "colab_type": "text"
      },
      "cell_type": "markdown",
      "source": [
        "##Prepare Data"
      ]
    },
    {
      "metadata": {
        "id": "-AQxVEhF0Ww9",
        "colab_type": "code",
        "colab": {}
      },
      "cell_type": "code",
      "source": [
        "y_train = train_data['possible']\n",
        "X_train = train_data[['age','fnlwgt','education-num','capital-gain','capital-loss','hours-per-week']]\n",
        "y_test = test_data['possible']\n",
        "X_test = test_data[['age','fnlwgt','education-num','capital-gain','capital-loss','hours-per-week']]"
      ],
      "execution_count": 0,
      "outputs": []
    },
    {
      "metadata": {
        "id": "b03KMlf61Ib8",
        "colab_type": "text"
      },
      "cell_type": "markdown",
      "source": [
        "##Scaling"
      ]
    },
    {
      "metadata": {
        "id": "rwA_fVHG1LLt",
        "colab_type": "code",
        "colab": {}
      },
      "cell_type": "code",
      "source": [
        "X_train = preprocessing.StandardScaler().fit(X_train).transform(X_train.astype(float))\n",
        "X_test = preprocessing.StandardScaler().fit(X_test).transform(X_train.astype(float))"
      ],
      "execution_count": 0,
      "outputs": []
    },
    {
      "metadata": {
        "id": "8L09dg6mw3KU",
        "colab_type": "text"
      },
      "cell_type": "markdown",
      "source": [
        "##Modeling"
      ]
    },
    {
      "metadata": {
        "id": "vRp9cht5lkUy",
        "colab_type": "code",
        "colab": {}
      },
      "cell_type": "code",
      "source": [
        "LR = LogisticRegression(C=0.01, solver='liblinear').fit(X_train,y_train)"
      ],
      "execution_count": 0,
      "outputs": []
    },
    {
      "metadata": {
        "id": "L_XtZuTXw-46",
        "colab_type": "text"
      },
      "cell_type": "markdown",
      "source": [
        "##Prediction"
      ]
    },
    {
      "metadata": {
        "id": "M-b4HXjMl8nn",
        "colab_type": "code",
        "colab": {}
      },
      "cell_type": "code",
      "source": [
        "yhat = LR.predict(X_test)"
      ],
      "execution_count": 0,
      "outputs": []
    },
    {
      "metadata": {
        "id": "_ZjezzgJl_TL",
        "colab_type": "code",
        "colab": {}
      },
      "cell_type": "code",
      "source": [
        "yhat_prob = LR.predict_proba(X_test)"
      ],
      "execution_count": 0,
      "outputs": []
    },
    {
      "metadata": {
        "id": "NZL1G-jDxCm8",
        "colab_type": "text"
      },
      "cell_type": "markdown",
      "source": [
        "##Evalution"
      ]
    },
    {
      "metadata": {
        "id": "Nt6EQvoJm2S_",
        "colab_type": "text"
      },
      "cell_type": "markdown",
      "source": [
        "###Log loss"
      ]
    },
    {
      "metadata": {
        "id": "UcQ1TJ-Rm4pf",
        "colab_type": "code",
        "colab": {
          "base_uri": "https://localhost:8080/",
          "height": 34
        },
        "outputId": "a7c9fc32-c053-45fd-9ecd-cc90e0c6ad51"
      },
      "cell_type": "code",
      "source": [
        "log_loss(y_test, yhat_prob)"
      ],
      "execution_count": 23,
      "outputs": [
        {
          "output_type": "execute_result",
          "data": {
            "text/plain": [
              "0.4253673255125806"
            ]
          },
          "metadata": {
            "tags": []
          },
          "execution_count": 23
        }
      ]
    },
    {
      "metadata": {
        "id": "oX1-DU8AskCm",
        "colab_type": "text"
      },
      "cell_type": "markdown",
      "source": [
        "###F1 Score"
      ]
    },
    {
      "metadata": {
        "id": "6B7G5z1lsjKZ",
        "colab_type": "code",
        "colab": {
          "base_uri": "https://localhost:8080/",
          "height": 87
        },
        "outputId": "04644cf0-a8ef-4271-9659-112a28d58066"
      },
      "cell_type": "code",
      "source": [
        "f1_score(y_test, yhat, average='weighted') "
      ],
      "execution_count": 24,
      "outputs": [
        {
          "output_type": "stream",
          "text": [
            "/usr/local/lib/python3.6/dist-packages/sklearn/metrics/classification.py:1135: UndefinedMetricWarning: F-score is ill-defined and being set to 0.0 in labels with no predicted samples.\n",
            "  'precision', 'predicted', average, warn_for)\n"
          ],
          "name": "stderr"
        },
        {
          "output_type": "execute_result",
          "data": {
            "text/plain": [
              "0.8265316626392801"
            ]
          },
          "metadata": {
            "tags": []
          },
          "execution_count": 24
        }
      ]
    },
    {
      "metadata": {
        "id": "Qck7K4F8npbo",
        "colab_type": "text"
      },
      "cell_type": "markdown",
      "source": [
        "###Jaccard Index"
      ]
    },
    {
      "metadata": {
        "id": "HQXxfUonnuyh",
        "colab_type": "code",
        "colab": {
          "base_uri": "https://localhost:8080/",
          "height": 34
        },
        "outputId": "2a9655d4-fe01-43a4-a3f0-e37083b01e47"
      },
      "cell_type": "code",
      "source": [
        "jaccard_similarity_score(y_test, yhat)"
      ],
      "execution_count": 25,
      "outputs": [
        {
          "output_type": "execute_result",
          "data": {
            "text/plain": [
              "0.8818832345443935"
            ]
          },
          "metadata": {
            "tags": []
          },
          "execution_count": 25
        }
      ]
    },
    {
      "metadata": {
        "id": "B6tbNBKToC6o",
        "colab_type": "text"
      },
      "cell_type": "markdown",
      "source": [
        "#SVM"
      ]
    },
    {
      "metadata": {
        "id": "H979EgI61TH0",
        "colab_type": "text"
      },
      "cell_type": "markdown",
      "source": [
        "##Prepare Data"
      ]
    },
    {
      "metadata": {
        "id": "QoK8k87k1XMK",
        "colab_type": "code",
        "colab": {}
      },
      "cell_type": "code",
      "source": [
        "# y_train = train_data['possible']\n",
        "# X_train = train_data[columns_for_datas]\n",
        "# y_test = test_data['possible']\n",
        "# X_test = test_data[columns_for_datas]\n",
        "\n",
        "y_train = train_data['possible']\n",
        "X_train = train_data[['age','fnlwgt','education-num','capital-gain','capital-loss','hours-per-week']]\n",
        "y_test = test_data['possible']\n",
        "X_test = test_data[['age','fnlwgt','education-num','capital-gain','capital-loss','hours-per-week']]"
      ],
      "execution_count": 0,
      "outputs": []
    },
    {
      "metadata": {
        "id": "XbpRKgfQ1VQd",
        "colab_type": "text"
      },
      "cell_type": "markdown",
      "source": [
        "##Scaling Data"
      ]
    },
    {
      "metadata": {
        "id": "_wIUTxai1aAZ",
        "colab_type": "code",
        "colab": {}
      },
      "cell_type": "code",
      "source": [
        "X_train = preprocessing.StandardScaler().fit(X_train).transform(X_train.astype(float))\n",
        "X_test = preprocessing.StandardScaler().fit(X_test).transform(X_train.astype(float))"
      ],
      "execution_count": 0,
      "outputs": []
    },
    {
      "metadata": {
        "id": "0reTD4zkpSWI",
        "colab_type": "text"
      },
      "cell_type": "markdown",
      "source": [
        "##Modeling"
      ]
    },
    {
      "metadata": {
        "id": "OEPM7KZ0oHyx",
        "colab_type": "code",
        "colab": {
          "base_uri": "https://localhost:8080/",
          "height": 84
        },
        "outputId": "87ffd2c9-8d9b-4f52-b2c4-45847d58bbc4"
      },
      "cell_type": "code",
      "source": [
        "clf = svm.SVC(kernel='rbf')\n",
        "clf.fit(X_train, y_train)"
      ],
      "execution_count": 28,
      "outputs": [
        {
          "output_type": "execute_result",
          "data": {
            "text/plain": [
              "SVC(C=1.0, cache_size=200, class_weight=None, coef0=0.0,\n",
              "  decision_function_shape='ovr', degree=3, gamma='auto', kernel='rbf',\n",
              "  max_iter=-1, probability=False, random_state=None, shrinking=True,\n",
              "  tol=0.001, verbose=False)"
            ]
          },
          "metadata": {
            "tags": []
          },
          "execution_count": 28
        }
      ]
    },
    {
      "metadata": {
        "id": "e4sRBuUWpbBr",
        "colab_type": "text"
      },
      "cell_type": "markdown",
      "source": [
        "##Prediction"
      ]
    },
    {
      "metadata": {
        "id": "BAdfCkUPpUTW",
        "colab_type": "code",
        "colab": {}
      },
      "cell_type": "code",
      "source": [
        "yhat = clf.predict(X_test)"
      ],
      "execution_count": 0,
      "outputs": []
    },
    {
      "metadata": {
        "id": "rCkJrNI2xSXX",
        "colab_type": "text"
      },
      "cell_type": "markdown",
      "source": [
        "##Evaluation"
      ]
    },
    {
      "metadata": {
        "id": "_x-g5cUxxUjC",
        "colab_type": "text"
      },
      "cell_type": "markdown",
      "source": [
        "###F1 Score"
      ]
    },
    {
      "metadata": {
        "id": "FQ5eCvmuqGPG",
        "colab_type": "code",
        "colab": {
          "base_uri": "https://localhost:8080/",
          "height": 87
        },
        "outputId": "da46e8b2-2d93-44f5-86c6-ac20b79cf0b5"
      },
      "cell_type": "code",
      "source": [
        "f1_score(y_test, yhat, average='weighted') "
      ],
      "execution_count": 30,
      "outputs": [
        {
          "output_type": "stream",
          "text": [
            "/usr/local/lib/python3.6/dist-packages/sklearn/metrics/classification.py:1135: UndefinedMetricWarning: F-score is ill-defined and being set to 0.0 in labels with no predicted samples.\n",
            "  'precision', 'predicted', average, warn_for)\n"
          ],
          "name": "stderr"
        },
        {
          "output_type": "execute_result",
          "data": {
            "text/plain": [
              "0.8265316626392801"
            ]
          },
          "metadata": {
            "tags": []
          },
          "execution_count": 30
        }
      ]
    },
    {
      "metadata": {
        "id": "IqOIbh2HxZJO",
        "colab_type": "text"
      },
      "cell_type": "markdown",
      "source": [
        "###Jaccard Score"
      ]
    },
    {
      "metadata": {
        "id": "3rHDtozpqan7",
        "colab_type": "code",
        "colab": {
          "base_uri": "https://localhost:8080/",
          "height": 34
        },
        "outputId": "288b7375-346c-4bfa-9cc5-575e01053bb0"
      },
      "cell_type": "code",
      "source": [
        "jaccard_similarity_score(y_test, yhat)"
      ],
      "execution_count": 31,
      "outputs": [
        {
          "output_type": "execute_result",
          "data": {
            "text/plain": [
              "0.8818832345443935"
            ]
          },
          "metadata": {
            "tags": []
          },
          "execution_count": 31
        }
      ]
    },
    {
      "metadata": {
        "id": "TGn06MbH3Ud9",
        "colab_type": "text"
      },
      "cell_type": "markdown",
      "source": [
        "<h1></h1>"
      ]
    },
    {
      "metadata": {
        "id": "2vXnWCFO4TaW",
        "colab_type": "text"
      },
      "cell_type": "markdown",
      "source": [
        "<h1>Choosing Logistic Regression</h1>\n",
        "<h2>Because this model have more properties for evaluation than others \n",
        "  Jaccard index\n",
        "  F1-score\n",
        "  LogLoss\n",
        "</h2>"
      ]
    }
  ]
}